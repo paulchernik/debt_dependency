{
 "cells": [
  {
   "cell_type": "markdown",
   "id": "44ba921f",
   "metadata": {},
   "source": [
    "# Исследование надежности заемщиков"
   ]
  },
  {
   "cell_type": "code",
   "execution_count": 5,
   "id": "30cd6607",
   "metadata": {},
   "outputs": [],
   "source": [
    "import pandas as pd\n",
    "import matplotlib.pyplot as plt"
   ]
  },
  {
   "cell_type": "code",
   "execution_count": 11,
   "id": "95b113c2",
   "metadata": {},
   "outputs": [],
   "source": [
    "data = pd.read_csv('/datasets/data.csv')"
   ]
  },
  {
   "cell_type": "code",
   "execution_count": 12,
   "id": "0e53d944",
   "metadata": {},
   "outputs": [
    {
     "data": {
      "text/html": [
       "<div>\n",
       "<style scoped>\n",
       "    .dataframe tbody tr th:only-of-type {\n",
       "        vertical-align: middle;\n",
       "    }\n",
       "\n",
       "    .dataframe tbody tr th {\n",
       "        vertical-align: top;\n",
       "    }\n",
       "\n",
       "    .dataframe thead th {\n",
       "        text-align: right;\n",
       "    }\n",
       "</style>\n",
       "<table border=\"1\" class=\"dataframe\">\n",
       "  <thead>\n",
       "    <tr style=\"text-align: right;\">\n",
       "      <th></th>\n",
       "      <th>children</th>\n",
       "      <th>days_employed</th>\n",
       "      <th>dob_years</th>\n",
       "      <th>education</th>\n",
       "      <th>education_id</th>\n",
       "      <th>family_status</th>\n",
       "      <th>family_status_id</th>\n",
       "      <th>gender</th>\n",
       "      <th>income_type</th>\n",
       "      <th>debt</th>\n",
       "      <th>total_income</th>\n",
       "      <th>purpose</th>\n",
       "    </tr>\n",
       "  </thead>\n",
       "  <tbody>\n",
       "    <tr>\n",
       "      <th>0</th>\n",
       "      <td>1</td>\n",
       "      <td>-8437.673028</td>\n",
       "      <td>42</td>\n",
       "      <td>высшее</td>\n",
       "      <td>0</td>\n",
       "      <td>женат / замужем</td>\n",
       "      <td>0</td>\n",
       "      <td>F</td>\n",
       "      <td>сотрудник</td>\n",
       "      <td>0</td>\n",
       "      <td>253875.639453</td>\n",
       "      <td>покупка жилья</td>\n",
       "    </tr>\n",
       "    <tr>\n",
       "      <th>1</th>\n",
       "      <td>1</td>\n",
       "      <td>-4024.803754</td>\n",
       "      <td>36</td>\n",
       "      <td>среднее</td>\n",
       "      <td>1</td>\n",
       "      <td>женат / замужем</td>\n",
       "      <td>0</td>\n",
       "      <td>F</td>\n",
       "      <td>сотрудник</td>\n",
       "      <td>0</td>\n",
       "      <td>112080.014102</td>\n",
       "      <td>приобретение автомобиля</td>\n",
       "    </tr>\n",
       "    <tr>\n",
       "      <th>2</th>\n",
       "      <td>0</td>\n",
       "      <td>-5623.422610</td>\n",
       "      <td>33</td>\n",
       "      <td>Среднее</td>\n",
       "      <td>1</td>\n",
       "      <td>женат / замужем</td>\n",
       "      <td>0</td>\n",
       "      <td>M</td>\n",
       "      <td>сотрудник</td>\n",
       "      <td>0</td>\n",
       "      <td>145885.952297</td>\n",
       "      <td>покупка жилья</td>\n",
       "    </tr>\n",
       "    <tr>\n",
       "      <th>3</th>\n",
       "      <td>3</td>\n",
       "      <td>-4124.747207</td>\n",
       "      <td>32</td>\n",
       "      <td>среднее</td>\n",
       "      <td>1</td>\n",
       "      <td>женат / замужем</td>\n",
       "      <td>0</td>\n",
       "      <td>M</td>\n",
       "      <td>сотрудник</td>\n",
       "      <td>0</td>\n",
       "      <td>267628.550329</td>\n",
       "      <td>дополнительное образование</td>\n",
       "    </tr>\n",
       "    <tr>\n",
       "      <th>4</th>\n",
       "      <td>0</td>\n",
       "      <td>340266.072047</td>\n",
       "      <td>53</td>\n",
       "      <td>среднее</td>\n",
       "      <td>1</td>\n",
       "      <td>гражданский брак</td>\n",
       "      <td>1</td>\n",
       "      <td>F</td>\n",
       "      <td>пенсионер</td>\n",
       "      <td>0</td>\n",
       "      <td>158616.077870</td>\n",
       "      <td>сыграть свадьбу</td>\n",
       "    </tr>\n",
       "    <tr>\n",
       "      <th>5</th>\n",
       "      <td>0</td>\n",
       "      <td>-926.185831</td>\n",
       "      <td>27</td>\n",
       "      <td>высшее</td>\n",
       "      <td>0</td>\n",
       "      <td>гражданский брак</td>\n",
       "      <td>1</td>\n",
       "      <td>M</td>\n",
       "      <td>компаньон</td>\n",
       "      <td>0</td>\n",
       "      <td>255763.565419</td>\n",
       "      <td>покупка жилья</td>\n",
       "    </tr>\n",
       "    <tr>\n",
       "      <th>6</th>\n",
       "      <td>0</td>\n",
       "      <td>-2879.202052</td>\n",
       "      <td>43</td>\n",
       "      <td>высшее</td>\n",
       "      <td>0</td>\n",
       "      <td>женат / замужем</td>\n",
       "      <td>0</td>\n",
       "      <td>F</td>\n",
       "      <td>компаньон</td>\n",
       "      <td>0</td>\n",
       "      <td>240525.971920</td>\n",
       "      <td>операции с жильем</td>\n",
       "    </tr>\n",
       "    <tr>\n",
       "      <th>7</th>\n",
       "      <td>0</td>\n",
       "      <td>-152.779569</td>\n",
       "      <td>50</td>\n",
       "      <td>СРЕДНЕЕ</td>\n",
       "      <td>1</td>\n",
       "      <td>женат / замужем</td>\n",
       "      <td>0</td>\n",
       "      <td>M</td>\n",
       "      <td>сотрудник</td>\n",
       "      <td>0</td>\n",
       "      <td>135823.934197</td>\n",
       "      <td>образование</td>\n",
       "    </tr>\n",
       "    <tr>\n",
       "      <th>8</th>\n",
       "      <td>2</td>\n",
       "      <td>-6929.865299</td>\n",
       "      <td>35</td>\n",
       "      <td>ВЫСШЕЕ</td>\n",
       "      <td>0</td>\n",
       "      <td>гражданский брак</td>\n",
       "      <td>1</td>\n",
       "      <td>F</td>\n",
       "      <td>сотрудник</td>\n",
       "      <td>0</td>\n",
       "      <td>95856.832424</td>\n",
       "      <td>на проведение свадьбы</td>\n",
       "    </tr>\n",
       "    <tr>\n",
       "      <th>9</th>\n",
       "      <td>0</td>\n",
       "      <td>-2188.756445</td>\n",
       "      <td>41</td>\n",
       "      <td>среднее</td>\n",
       "      <td>1</td>\n",
       "      <td>женат / замужем</td>\n",
       "      <td>0</td>\n",
       "      <td>M</td>\n",
       "      <td>сотрудник</td>\n",
       "      <td>0</td>\n",
       "      <td>144425.938277</td>\n",
       "      <td>покупка жилья для семьи</td>\n",
       "    </tr>\n",
       "    <tr>\n",
       "      <th>10</th>\n",
       "      <td>2</td>\n",
       "      <td>-4171.483647</td>\n",
       "      <td>36</td>\n",
       "      <td>высшее</td>\n",
       "      <td>0</td>\n",
       "      <td>женат / замужем</td>\n",
       "      <td>0</td>\n",
       "      <td>M</td>\n",
       "      <td>компаньон</td>\n",
       "      <td>0</td>\n",
       "      <td>113943.491460</td>\n",
       "      <td>покупка недвижимости</td>\n",
       "    </tr>\n",
       "    <tr>\n",
       "      <th>11</th>\n",
       "      <td>0</td>\n",
       "      <td>-792.701887</td>\n",
       "      <td>40</td>\n",
       "      <td>среднее</td>\n",
       "      <td>1</td>\n",
       "      <td>женат / замужем</td>\n",
       "      <td>0</td>\n",
       "      <td>F</td>\n",
       "      <td>сотрудник</td>\n",
       "      <td>0</td>\n",
       "      <td>77069.234271</td>\n",
       "      <td>покупка коммерческой недвижимости</td>\n",
       "    </tr>\n",
       "    <tr>\n",
       "      <th>12</th>\n",
       "      <td>0</td>\n",
       "      <td>NaN</td>\n",
       "      <td>65</td>\n",
       "      <td>среднее</td>\n",
       "      <td>1</td>\n",
       "      <td>гражданский брак</td>\n",
       "      <td>1</td>\n",
       "      <td>M</td>\n",
       "      <td>пенсионер</td>\n",
       "      <td>0</td>\n",
       "      <td>NaN</td>\n",
       "      <td>сыграть свадьбу</td>\n",
       "    </tr>\n",
       "    <tr>\n",
       "      <th>13</th>\n",
       "      <td>0</td>\n",
       "      <td>-1846.641941</td>\n",
       "      <td>54</td>\n",
       "      <td>неоконченное высшее</td>\n",
       "      <td>2</td>\n",
       "      <td>женат / замужем</td>\n",
       "      <td>0</td>\n",
       "      <td>F</td>\n",
       "      <td>сотрудник</td>\n",
       "      <td>0</td>\n",
       "      <td>130458.228857</td>\n",
       "      <td>приобретение автомобиля</td>\n",
       "    </tr>\n",
       "    <tr>\n",
       "      <th>14</th>\n",
       "      <td>0</td>\n",
       "      <td>-1844.956182</td>\n",
       "      <td>56</td>\n",
       "      <td>высшее</td>\n",
       "      <td>0</td>\n",
       "      <td>гражданский брак</td>\n",
       "      <td>1</td>\n",
       "      <td>F</td>\n",
       "      <td>компаньон</td>\n",
       "      <td>1</td>\n",
       "      <td>165127.911772</td>\n",
       "      <td>покупка жилой недвижимости</td>\n",
       "    </tr>\n",
       "    <tr>\n",
       "      <th>15</th>\n",
       "      <td>1</td>\n",
       "      <td>-972.364419</td>\n",
       "      <td>26</td>\n",
       "      <td>среднее</td>\n",
       "      <td>1</td>\n",
       "      <td>женат / замужем</td>\n",
       "      <td>0</td>\n",
       "      <td>F</td>\n",
       "      <td>сотрудник</td>\n",
       "      <td>0</td>\n",
       "      <td>116820.904450</td>\n",
       "      <td>строительство собственной недвижимости</td>\n",
       "    </tr>\n",
       "    <tr>\n",
       "      <th>16</th>\n",
       "      <td>0</td>\n",
       "      <td>-1719.934226</td>\n",
       "      <td>35</td>\n",
       "      <td>среднее</td>\n",
       "      <td>1</td>\n",
       "      <td>женат / замужем</td>\n",
       "      <td>0</td>\n",
       "      <td>F</td>\n",
       "      <td>сотрудник</td>\n",
       "      <td>0</td>\n",
       "      <td>289202.704229</td>\n",
       "      <td>недвижимость</td>\n",
       "    </tr>\n",
       "    <tr>\n",
       "      <th>17</th>\n",
       "      <td>0</td>\n",
       "      <td>-2369.999720</td>\n",
       "      <td>33</td>\n",
       "      <td>высшее</td>\n",
       "      <td>0</td>\n",
       "      <td>гражданский брак</td>\n",
       "      <td>1</td>\n",
       "      <td>M</td>\n",
       "      <td>сотрудник</td>\n",
       "      <td>0</td>\n",
       "      <td>90410.586745</td>\n",
       "      <td>строительство недвижимости</td>\n",
       "    </tr>\n",
       "    <tr>\n",
       "      <th>18</th>\n",
       "      <td>0</td>\n",
       "      <td>400281.136913</td>\n",
       "      <td>53</td>\n",
       "      <td>среднее</td>\n",
       "      <td>1</td>\n",
       "      <td>вдовец / вдова</td>\n",
       "      <td>2</td>\n",
       "      <td>F</td>\n",
       "      <td>пенсионер</td>\n",
       "      <td>0</td>\n",
       "      <td>56823.777243</td>\n",
       "      <td>на покупку подержанного автомобиля</td>\n",
       "    </tr>\n",
       "    <tr>\n",
       "      <th>19</th>\n",
       "      <td>0</td>\n",
       "      <td>-10038.818549</td>\n",
       "      <td>48</td>\n",
       "      <td>СРЕДНЕЕ</td>\n",
       "      <td>1</td>\n",
       "      <td>в разводе</td>\n",
       "      <td>3</td>\n",
       "      <td>F</td>\n",
       "      <td>сотрудник</td>\n",
       "      <td>0</td>\n",
       "      <td>242831.107982</td>\n",
       "      <td>на покупку своего автомобиля</td>\n",
       "    </tr>\n",
       "  </tbody>\n",
       "</table>\n",
       "</div>"
      ],
      "text/plain": [
       "    children  days_employed  dob_years            education  education_id  \\\n",
       "0          1   -8437.673028         42               высшее             0   \n",
       "1          1   -4024.803754         36              среднее             1   \n",
       "2          0   -5623.422610         33              Среднее             1   \n",
       "3          3   -4124.747207         32              среднее             1   \n",
       "4          0  340266.072047         53              среднее             1   \n",
       "5          0    -926.185831         27               высшее             0   \n",
       "6          0   -2879.202052         43               высшее             0   \n",
       "7          0    -152.779569         50              СРЕДНЕЕ             1   \n",
       "8          2   -6929.865299         35               ВЫСШЕЕ             0   \n",
       "9          0   -2188.756445         41              среднее             1   \n",
       "10         2   -4171.483647         36               высшее             0   \n",
       "11         0    -792.701887         40              среднее             1   \n",
       "12         0            NaN         65              среднее             1   \n",
       "13         0   -1846.641941         54  неоконченное высшее             2   \n",
       "14         0   -1844.956182         56               высшее             0   \n",
       "15         1    -972.364419         26              среднее             1   \n",
       "16         0   -1719.934226         35              среднее             1   \n",
       "17         0   -2369.999720         33               высшее             0   \n",
       "18         0  400281.136913         53              среднее             1   \n",
       "19         0  -10038.818549         48              СРЕДНЕЕ             1   \n",
       "\n",
       "       family_status  family_status_id gender income_type  debt  \\\n",
       "0    женат / замужем                 0      F   сотрудник     0   \n",
       "1    женат / замужем                 0      F   сотрудник     0   \n",
       "2    женат / замужем                 0      M   сотрудник     0   \n",
       "3    женат / замужем                 0      M   сотрудник     0   \n",
       "4   гражданский брак                 1      F   пенсионер     0   \n",
       "5   гражданский брак                 1      M   компаньон     0   \n",
       "6    женат / замужем                 0      F   компаньон     0   \n",
       "7    женат / замужем                 0      M   сотрудник     0   \n",
       "8   гражданский брак                 1      F   сотрудник     0   \n",
       "9    женат / замужем                 0      M   сотрудник     0   \n",
       "10   женат / замужем                 0      M   компаньон     0   \n",
       "11   женат / замужем                 0      F   сотрудник     0   \n",
       "12  гражданский брак                 1      M   пенсионер     0   \n",
       "13   женат / замужем                 0      F   сотрудник     0   \n",
       "14  гражданский брак                 1      F   компаньон     1   \n",
       "15   женат / замужем                 0      F   сотрудник     0   \n",
       "16   женат / замужем                 0      F   сотрудник     0   \n",
       "17  гражданский брак                 1      M   сотрудник     0   \n",
       "18    вдовец / вдова                 2      F   пенсионер     0   \n",
       "19         в разводе                 3      F   сотрудник     0   \n",
       "\n",
       "     total_income                                 purpose  \n",
       "0   253875.639453                           покупка жилья  \n",
       "1   112080.014102                 приобретение автомобиля  \n",
       "2   145885.952297                           покупка жилья  \n",
       "3   267628.550329              дополнительное образование  \n",
       "4   158616.077870                         сыграть свадьбу  \n",
       "5   255763.565419                           покупка жилья  \n",
       "6   240525.971920                       операции с жильем  \n",
       "7   135823.934197                             образование  \n",
       "8    95856.832424                   на проведение свадьбы  \n",
       "9   144425.938277                 покупка жилья для семьи  \n",
       "10  113943.491460                    покупка недвижимости  \n",
       "11   77069.234271       покупка коммерческой недвижимости  \n",
       "12            NaN                         сыграть свадьбу  \n",
       "13  130458.228857                 приобретение автомобиля  \n",
       "14  165127.911772              покупка жилой недвижимости  \n",
       "15  116820.904450  строительство собственной недвижимости  \n",
       "16  289202.704229                            недвижимость  \n",
       "17   90410.586745              строительство недвижимости  \n",
       "18   56823.777243      на покупку подержанного автомобиля  \n",
       "19  242831.107982            на покупку своего автомобиля  "
      ]
     },
     "execution_count": 12,
     "metadata": {},
     "output_type": "execute_result"
    }
   ],
   "source": [
    "data.head(20)"
   ]
  },
  {
   "cell_type": "code",
   "execution_count": 13,
   "id": "878f53da",
   "metadata": {},
   "outputs": [
    {
     "name": "stdout",
     "output_type": "stream",
     "text": [
      "<class 'pandas.core.frame.DataFrame'>\n",
      "RangeIndex: 21525 entries, 0 to 21524\n",
      "Data columns (total 12 columns):\n",
      " #   Column            Non-Null Count  Dtype  \n",
      "---  ------            --------------  -----  \n",
      " 0   children          21525 non-null  int64  \n",
      " 1   days_employed     19351 non-null  float64\n",
      " 2   dob_years         21525 non-null  int64  \n",
      " 3   education         21525 non-null  object \n",
      " 4   education_id      21525 non-null  int64  \n",
      " 5   family_status     21525 non-null  object \n",
      " 6   family_status_id  21525 non-null  int64  \n",
      " 7   gender            21525 non-null  object \n",
      " 8   income_type       21525 non-null  object \n",
      " 9   debt              21525 non-null  int64  \n",
      " 10  total_income      19351 non-null  float64\n",
      " 11  purpose           21525 non-null  object \n",
      "dtypes: float64(2), int64(5), object(5)\n",
      "memory usage: 2.0+ MB\n"
     ]
    }
   ],
   "source": [
    "# основная информация о датафрейме\n",
    "\n",
    "data.info()"
   ]
  },
  {
   "cell_type": "code",
   "execution_count": 14,
   "id": "f1afc947",
   "metadata": {},
   "outputs": [
    {
     "data": {
      "text/plain": [
       "children               0\n",
       "days_employed       2174\n",
       "dob_years              0\n",
       "education              0\n",
       "education_id           0\n",
       "family_status          0\n",
       "family_status_id       0\n",
       "gender                 0\n",
       "income_type            0\n",
       "debt                   0\n",
       "total_income        2174\n",
       "purpose                0\n",
       "dtype: int64"
      ]
     },
     "execution_count": 14,
     "metadata": {},
     "output_type": "execute_result"
    }
   ],
   "source": [
    "data.isnull().sum()"
   ]
  },
  {
   "cell_type": "markdown",
   "id": "a8f0ae2d",
   "metadata": {},
   "source": [
    "**В двух столбцах есть пропущенные значения. `days_employed` и `total_income`**\n",
    "\n",
    "**На сумму дохода сильнее всего влияет тип занятости, поэтому заполнить пропуски в этом столбце нужно медианным значением по каждому типу из столбца `income_type`. Например, у человека с типом занятости `сотрудник` пропуск в столбце `total_income` должен быть заполнен медианным доходом среди всех записей с тем же типом.**"
   ]
  },
  {
   "cell_type": "code",
   "execution_count": 15,
   "id": "4041f334",
   "metadata": {},
   "outputs": [
    {
     "data": {
      "text/plain": [
       "income_type\n",
       "безработный        131339.751676\n",
       "в декрете           53829.130729\n",
       "госслужащий        150447.935283\n",
       "компаньон          172357.950966\n",
       "пенсионер          118514.486412\n",
       "предприниматель    499163.144947\n",
       "сотрудник          142594.396847\n",
       "студент             98201.625314\n",
       "Name: total_income, dtype: float64"
      ]
     },
     "execution_count": 15,
     "metadata": {},
     "output_type": "execute_result"
    }
   ],
   "source": [
    "# посчитаем медианное значение ежемесячного дохода по каждому типу занятости\n",
    "\n",
    "income_median = data.groupby('income_type')['total_income'].median()\n",
    "income_median"
   ]
  },
  {
   "cell_type": "code",
   "execution_count": 21,
   "id": "786c3ddf",
   "metadata": {},
   "outputs": [],
   "source": [
    "# замена пустых значений на медианное\n",
    "\n",
    "for i in data['income_type'].unique():\n",
    "    data.loc[(data['income_type'] == i) & (data['total_income'].isna()), 'total_income'] = \\\n",
    "    data.loc[(data['income_type'] == i), 'total_income'].median()"
   ]
  },
  {
   "cell_type": "code",
   "execution_count": 17,
   "id": "cd858b13",
   "metadata": {},
   "outputs": [
    {
     "data": {
      "text/plain": [
       "children               0\n",
       "days_employed       2174\n",
       "dob_years              0\n",
       "education              0\n",
       "education_id           0\n",
       "family_status          0\n",
       "family_status_id       0\n",
       "gender                 0\n",
       "income_type            0\n",
       "debt                   0\n",
       "total_income           0\n",
       "purpose                0\n",
       "dtype: int64"
      ]
     },
     "execution_count": 17,
     "metadata": {},
     "output_type": "execute_result"
    }
   ],
   "source": [
    "data.isnull().sum()"
   ]
  },
  {
   "cell_type": "markdown",
   "id": "6d8aebb2",
   "metadata": {},
   "source": [
    "Пропущенных значений в столбце 'total_income' больше нет"
   ]
  },
  {
   "cell_type": "code",
   "execution_count": 18,
   "id": "36aef6fa",
   "metadata": {},
   "outputs": [],
   "source": [
    "# заменим все отрицательные значения положительными с помощью метода abs()\n",
    "\n",
    "data['days_employed'] = data['days_employed'].abs()"
   ]
  },
  {
   "cell_type": "code",
   "execution_count": 19,
   "id": "d8b4d7c5",
   "metadata": {},
   "outputs": [
    {
     "data": {
      "text/html": [
       "<div>\n",
       "<style scoped>\n",
       "    .dataframe tbody tr th:only-of-type {\n",
       "        vertical-align: middle;\n",
       "    }\n",
       "\n",
       "    .dataframe tbody tr th {\n",
       "        vertical-align: top;\n",
       "    }\n",
       "\n",
       "    .dataframe thead th {\n",
       "        text-align: right;\n",
       "    }\n",
       "</style>\n",
       "<table border=\"1\" class=\"dataframe\">\n",
       "  <thead>\n",
       "    <tr style=\"text-align: right;\">\n",
       "      <th></th>\n",
       "      <th>children</th>\n",
       "      <th>days_employed</th>\n",
       "      <th>dob_years</th>\n",
       "      <th>education</th>\n",
       "      <th>education_id</th>\n",
       "      <th>family_status</th>\n",
       "      <th>family_status_id</th>\n",
       "      <th>gender</th>\n",
       "      <th>income_type</th>\n",
       "      <th>debt</th>\n",
       "      <th>total_income</th>\n",
       "      <th>purpose</th>\n",
       "    </tr>\n",
       "  </thead>\n",
       "  <tbody>\n",
       "    <tr>\n",
       "      <th>0</th>\n",
       "      <td>1</td>\n",
       "      <td>8437.673028</td>\n",
       "      <td>42</td>\n",
       "      <td>высшее</td>\n",
       "      <td>0</td>\n",
       "      <td>женат / замужем</td>\n",
       "      <td>0</td>\n",
       "      <td>F</td>\n",
       "      <td>сотрудник</td>\n",
       "      <td>0</td>\n",
       "      <td>253875.639453</td>\n",
       "      <td>покупка жилья</td>\n",
       "    </tr>\n",
       "    <tr>\n",
       "      <th>1</th>\n",
       "      <td>1</td>\n",
       "      <td>4024.803754</td>\n",
       "      <td>36</td>\n",
       "      <td>среднее</td>\n",
       "      <td>1</td>\n",
       "      <td>женат / замужем</td>\n",
       "      <td>0</td>\n",
       "      <td>F</td>\n",
       "      <td>сотрудник</td>\n",
       "      <td>0</td>\n",
       "      <td>112080.014102</td>\n",
       "      <td>приобретение автомобиля</td>\n",
       "    </tr>\n",
       "    <tr>\n",
       "      <th>2</th>\n",
       "      <td>0</td>\n",
       "      <td>5623.422610</td>\n",
       "      <td>33</td>\n",
       "      <td>Среднее</td>\n",
       "      <td>1</td>\n",
       "      <td>женат / замужем</td>\n",
       "      <td>0</td>\n",
       "      <td>M</td>\n",
       "      <td>сотрудник</td>\n",
       "      <td>0</td>\n",
       "      <td>145885.952297</td>\n",
       "      <td>покупка жилья</td>\n",
       "    </tr>\n",
       "    <tr>\n",
       "      <th>3</th>\n",
       "      <td>3</td>\n",
       "      <td>4124.747207</td>\n",
       "      <td>32</td>\n",
       "      <td>среднее</td>\n",
       "      <td>1</td>\n",
       "      <td>женат / замужем</td>\n",
       "      <td>0</td>\n",
       "      <td>M</td>\n",
       "      <td>сотрудник</td>\n",
       "      <td>0</td>\n",
       "      <td>267628.550329</td>\n",
       "      <td>дополнительное образование</td>\n",
       "    </tr>\n",
       "    <tr>\n",
       "      <th>4</th>\n",
       "      <td>0</td>\n",
       "      <td>340266.072047</td>\n",
       "      <td>53</td>\n",
       "      <td>среднее</td>\n",
       "      <td>1</td>\n",
       "      <td>гражданский брак</td>\n",
       "      <td>1</td>\n",
       "      <td>F</td>\n",
       "      <td>пенсионер</td>\n",
       "      <td>0</td>\n",
       "      <td>158616.077870</td>\n",
       "      <td>сыграть свадьбу</td>\n",
       "    </tr>\n",
       "  </tbody>\n",
       "</table>\n",
       "</div>"
      ],
      "text/plain": [
       "   children  days_employed  dob_years education  education_id  \\\n",
       "0         1    8437.673028         42    высшее             0   \n",
       "1         1    4024.803754         36   среднее             1   \n",
       "2         0    5623.422610         33   Среднее             1   \n",
       "3         3    4124.747207         32   среднее             1   \n",
       "4         0  340266.072047         53   среднее             1   \n",
       "\n",
       "      family_status  family_status_id gender income_type  debt   total_income  \\\n",
       "0   женат / замужем                 0      F   сотрудник     0  253875.639453   \n",
       "1   женат / замужем                 0      F   сотрудник     0  112080.014102   \n",
       "2   женат / замужем                 0      M   сотрудник     0  145885.952297   \n",
       "3   женат / замужем                 0      M   сотрудник     0  267628.550329   \n",
       "4  гражданский брак                 1      F   пенсионер     0  158616.077870   \n",
       "\n",
       "                      purpose  \n",
       "0               покупка жилья  \n",
       "1     приобретение автомобиля  \n",
       "2               покупка жилья  \n",
       "3  дополнительное образование  \n",
       "4             сыграть свадьбу  "
      ]
     },
     "execution_count": 19,
     "metadata": {},
     "output_type": "execute_result"
    }
   ],
   "source": [
    "data.head()"
   ]
  },
  {
   "cell_type": "code",
   "execution_count": 20,
   "id": "d9d52dba",
   "metadata": {},
   "outputs": [
    {
     "data": {
      "text/plain": [
       "income_type\n",
       "безработный        366413.652744\n",
       "в декрете            3296.759962\n",
       "госслужащий          2689.368353\n",
       "компаньон            1547.382223\n",
       "пенсионер          365213.306266\n",
       "предприниматель       520.848083\n",
       "сотрудник            1574.202821\n",
       "студент               578.751554\n",
       "Name: days_employed, dtype: float64"
      ]
     },
     "execution_count": 20,
     "metadata": {},
     "output_type": "execute_result"
    }
   ],
   "source": [
    "# медианное значение трудового стажа days_employed в днях для каждого типа занятости \n",
    "\n",
    "data.groupby('income_type')['days_employed'].median()"
   ]
  },
  {
   "cell_type": "markdown",
   "id": "ca16b7f1",
   "metadata": {},
   "source": [
    "У двух типов (безработные и пенсионеры) получатся аномально большие значения. Исправить такие значения сложно, поэтому оставим их как есть."
   ]
  },
  {
   "cell_type": "code",
   "execution_count": 22,
   "id": "8d2b3160",
   "metadata": {},
   "outputs": [
    {
     "data": {
      "text/plain": [
       "array([ 1,  0,  3,  2, -1,  4, 20,  5])"
      ]
     },
     "execution_count": 22,
     "metadata": {},
     "output_type": "execute_result"
    }
   ],
   "source": [
    "# перечень уникальных значений столбца children\n",
    "\n",
    "data['children'].unique()"
   ]
  },
  {
   "cell_type": "code",
   "execution_count": 24,
   "id": "70e003a4",
   "metadata": {},
   "outputs": [
    {
     "data": {
      "text/plain": [
       "array([1, 0, 3, 2, 4, 5])"
      ]
     },
     "execution_count": 24,
     "metadata": {},
     "output_type": "execute_result"
    }
   ],
   "source": [
    "# удаление аномальных значений из столбца children\n",
    "\n",
    "data = data[(data['children'] >= 0) & (data['children'] <= 5)]\n",
    "data['children'].unique()"
   ]
  },
  {
   "cell_type": "code",
   "execution_count": 25,
   "id": "16d7ed22",
   "metadata": {},
   "outputs": [],
   "source": [
    "# заполнение пропусков в столбце days_employed медианными значениями по каждому типу занятости income_type\n",
    "\n",
    "for i in data['income_type'].unique():\n",
    "    data.loc[(data['income_type'] == i) & (data['days_employed'].isna()), 'days_employed'] = \\\n",
    "    data.loc[(data['income_type'] == i), 'days_employed'].median()"
   ]
  },
  {
   "cell_type": "code",
   "execution_count": 27,
   "id": "ad033e08",
   "metadata": {},
   "outputs": [
    {
     "data": {
      "text/plain": [
       "children            0\n",
       "days_employed       0\n",
       "dob_years           0\n",
       "education           0\n",
       "education_id        0\n",
       "family_status       0\n",
       "family_status_id    0\n",
       "gender              0\n",
       "income_type         0\n",
       "debt                0\n",
       "total_income        0\n",
       "purpose             0\n",
       "dtype: int64"
      ]
     },
     "execution_count": 27,
     "metadata": {},
     "output_type": "execute_result"
    }
   ],
   "source": [
    "data.isnull().sum()"
   ]
  },
  {
   "cell_type": "code",
   "execution_count": 28,
   "id": "dc664c20",
   "metadata": {},
   "outputs": [],
   "source": [
    "# замена типа данных в столбце total_income на целочисленный с помощью метода astype().\n",
    "\n",
    "data['total_income'] = data['total_income'].astype('int')"
   ]
  },
  {
   "cell_type": "code",
   "execution_count": 29,
   "id": "efdfca76",
   "metadata": {},
   "outputs": [
    {
     "data": {
      "text/plain": [
       "array(['высшее', 'среднее', 'Среднее', 'СРЕДНЕЕ', 'ВЫСШЕЕ',\n",
       "       'неоконченное высшее', 'начальное', 'Высшее',\n",
       "       'НЕОКОНЧЕННОЕ ВЫСШЕЕ', 'Неоконченное высшее', 'НАЧАЛЬНОЕ',\n",
       "       'Начальное', 'Ученая степень', 'УЧЕНАЯ СТЕПЕНЬ', 'ученая степень'],\n",
       "      dtype=object)"
      ]
     },
     "execution_count": 29,
     "metadata": {},
     "output_type": "execute_result"
    }
   ],
   "source": [
    "# проверка уникальных значений в столбце education\n",
    "\n",
    "data['education'].unique()"
   ]
  },
  {
   "cell_type": "code",
   "execution_count": 30,
   "id": "ca8a8b01",
   "metadata": {},
   "outputs": [],
   "source": [
    "# приведение к к нижнему регистру\n",
    "\n",
    "data['education'] = data['education'].str.lower()"
   ]
  },
  {
   "cell_type": "code",
   "execution_count": 31,
   "id": "e3d5009b",
   "metadata": {},
   "outputs": [
    {
     "data": {
      "text/plain": [
       "71"
      ]
     },
     "execution_count": 31,
     "metadata": {},
     "output_type": "execute_result"
    }
   ],
   "source": [
    "# подсчёт строк дубликатов\n",
    "\n",
    "data.duplicated().sum()"
   ]
  },
  {
   "cell_type": "code",
   "execution_count": 32,
   "id": "18aa41ec",
   "metadata": {},
   "outputs": [],
   "source": [
    "# удаление дубликатов\n",
    "\n",
    "data = data.drop_duplicates()"
   ]
  },
  {
   "cell_type": "markdown",
   "id": "9a536e57",
   "metadata": {},
   "source": [
    " "
   ]
  },
  {
   "cell_type": "markdown",
   "id": "dc5ef2c7",
   "metadata": {},
   "source": [
    " "
   ]
  },
  {
   "cell_type": "markdown",
   "id": "7a2dc392",
   "metadata": {},
   "source": [
    " "
   ]
  },
  {
   "cell_type": "markdown",
   "id": "1180e620",
   "metadata": {},
   "source": [
    "**Категоризируем данные, на основании диапазонов созданим столбец `total_income_category` с категориями:**\n",
    "\n",
    "- 0–30000 — `'E'`;\n",
    "- 30001–50000 — `'D'`;\n",
    "- 50001–200000 — `'C'`;\n",
    "- 200001–1000000 — `'B'`;\n",
    "- 1000001 и выше — `'A'`.**"
   ]
  },
  {
   "cell_type": "code",
   "execution_count": 34,
   "id": "9e4cb048",
   "metadata": {},
   "outputs": [],
   "source": [
    "# создадим функцию categorize_income()\n",
    "\n",
    "\n",
    "def categorize_income(income):\n",
    "    if income <= 30000:\n",
    "        return 'E'\n",
    "    elif income <= 50000:\n",
    "        return 'D'\n",
    "    elif income <= 200000:\n",
    "        return 'C'\n",
    "    elif income <= 1000000:\n",
    "        return 'B'\n",
    "    else:\n",
    "        return 'A'\n",
    "\n",
    "data['total_income_category'] = data['total_income'].apply(categorize_income)"
   ]
  },
  {
   "cell_type": "markdown",
   "id": "b2177c67",
   "metadata": {},
   "source": [
    " "
   ]
  },
  {
   "cell_type": "markdown",
   "id": "ef53ee85",
   "metadata": {},
   "source": [
    " "
   ]
  },
  {
   "cell_type": "markdown",
   "id": "3e9fcbc0",
   "metadata": {},
   "source": [
    " "
   ]
  },
  {
   "cell_type": "code",
   "execution_count": 35,
   "id": "6e07b43c",
   "metadata": {},
   "outputs": [
    {
     "data": {
      "text/plain": [
       "array(['покупка жилья', 'приобретение автомобиля',\n",
       "       'дополнительное образование', 'сыграть свадьбу',\n",
       "       'операции с жильем', 'образование', 'на проведение свадьбы',\n",
       "       'покупка жилья для семьи', 'покупка недвижимости',\n",
       "       'покупка коммерческой недвижимости', 'покупка жилой недвижимости',\n",
       "       'строительство собственной недвижимости', 'недвижимость',\n",
       "       'строительство недвижимости', 'на покупку подержанного автомобиля',\n",
       "       'на покупку своего автомобиля',\n",
       "       'операции с коммерческой недвижимостью',\n",
       "       'строительство жилой недвижимости', 'жилье',\n",
       "       'операции со своей недвижимостью', 'автомобили',\n",
       "       'заняться образованием', 'сделка с подержанным автомобилем',\n",
       "       'получение образования', 'автомобиль', 'свадьба',\n",
       "       'получение дополнительного образования', 'покупка своего жилья',\n",
       "       'операции с недвижимостью', 'получение высшего образования',\n",
       "       'свой автомобиль', 'сделка с автомобилем',\n",
       "       'профильное образование', 'высшее образование',\n",
       "       'покупка жилья для сдачи', 'на покупку автомобиля', 'ремонт жилью',\n",
       "       'заняться высшим образованием'], dtype=object)"
      ]
     },
     "execution_count": 35,
     "metadata": {},
     "output_type": "execute_result"
    }
   ],
   "source": [
    "# посмотрим перечень уникальных целей взятия кредита из столбца purpose\n",
    "\n",
    "data['purpose'].unique()"
   ]
  },
  {
   "cell_type": "markdown",
   "id": "7cbdcd72",
   "metadata": {},
   "source": [
    "**Создадим функцию, которая на основании данных из столбца `purpose` сформирует новый столбец `purpose_category`, в который войдут следующие категории:**\n",
    "\n",
    "- `'операции с автомобилем'`,\n",
    "- `'операции с недвижимостью'`,\n",
    "- `'проведение свадьбы'`,\n",
    "- `'получение образования'`."
   ]
  },
  {
   "cell_type": "code",
   "execution_count": 36,
   "id": "33bb9266",
   "metadata": {},
   "outputs": [],
   "source": [
    "# создадим функцию categorize_purpose()\n",
    "\n",
    "\n",
    "def categorize_purpose(purpose):\n",
    "    if 'авто' in purpose:\n",
    "        return 'операции с автомобилем'\n",
    "    elif 'жиль' in purpose or 'недвижимост' in purpose:\n",
    "        return 'операции с недвижимостью'\n",
    "    elif 'свадьб' in purpose:\n",
    "        return 'проведение свадьбы'\n",
    "    elif 'образован' in purpose:\n",
    "        return 'получение образования'\n",
    "    \n",
    "data['purpose_category'] = data['purpose'].apply(categorize_purpose)"
   ]
  },
  {
   "cell_type": "markdown",
   "id": "f045a6d1",
   "metadata": {},
   "source": [
    "  "
   ]
  },
  {
   "cell_type": "markdown",
   "id": "6f542926",
   "metadata": {},
   "source": [
    " "
   ]
  },
  {
   "cell_type": "markdown",
   "id": "68423af9",
   "metadata": {},
   "source": [
    "  "
   ]
  },
  {
   "cell_type": "markdown",
   "id": "374c64f6",
   "metadata": {},
   "source": [
    " "
   ]
  },
  {
   "cell_type": "markdown",
   "id": "b309a05c",
   "metadata": {},
   "source": [
    "### Исследуем данные и ответим на вопросы гипотез"
   ]
  },
  {
   "cell_type": "markdown",
   "id": "8042047a",
   "metadata": {},
   "source": [
    "#### Есть ли зависимость между количеством детей и возвратом кредита в срок?"
   ]
  },
  {
   "cell_type": "markdown",
   "id": "499e0e8a",
   "metadata": {},
   "source": [
    "Для того чтобы посчитать зависимость между количеством детей и возвратом кредита в срок, посчитаем количество клиентов с группировкой по количеству детей и из них выделим клиентов с задолженностью по кредиту."
   ]
  },
  {
   "cell_type": "code",
   "execution_count": 38,
   "id": "c4ca8b7a",
   "metadata": {},
   "outputs": [],
   "source": [
    "# Группировка данных и расчет общего количества клиентов и должников\n",
    "\n",
    "children_group = data.groupby('children')['debt'].agg(['count', 'sum']).reset_index()\n",
    "#reset_index() для удобства чтения таблицы"
   ]
  },
  {
   "cell_type": "code",
   "execution_count": 39,
   "id": "d1796b47",
   "metadata": {},
   "outputs": [],
   "source": [
    "# Переименование колонок для удобства\n",
    "\n",
    "children_group.columns = ['children', 'clients', 'debt']"
   ]
  },
  {
   "cell_type": "code",
   "execution_count": 40,
   "id": "9740a33b",
   "metadata": {},
   "outputs": [
    {
     "data": {
      "text/html": [
       "<div>\n",
       "<style scoped>\n",
       "    .dataframe tbody tr th:only-of-type {\n",
       "        vertical-align: middle;\n",
       "    }\n",
       "\n",
       "    .dataframe tbody tr th {\n",
       "        vertical-align: top;\n",
       "    }\n",
       "\n",
       "    .dataframe thead th {\n",
       "        text-align: right;\n",
       "    }\n",
       "</style>\n",
       "<table border=\"1\" class=\"dataframe\">\n",
       "  <thead>\n",
       "    <tr style=\"text-align: right;\">\n",
       "      <th></th>\n",
       "      <th>children</th>\n",
       "      <th>clients</th>\n",
       "      <th>debt</th>\n",
       "      <th>debt_perc</th>\n",
       "    </tr>\n",
       "  </thead>\n",
       "  <tbody>\n",
       "    <tr>\n",
       "      <th>0</th>\n",
       "      <td>0</td>\n",
       "      <td>14091</td>\n",
       "      <td>1063</td>\n",
       "      <td>7.54</td>\n",
       "    </tr>\n",
       "    <tr>\n",
       "      <th>1</th>\n",
       "      <td>1</td>\n",
       "      <td>4808</td>\n",
       "      <td>444</td>\n",
       "      <td>9.23</td>\n",
       "    </tr>\n",
       "    <tr>\n",
       "      <th>2</th>\n",
       "      <td>2</td>\n",
       "      <td>2052</td>\n",
       "      <td>194</td>\n",
       "      <td>9.45</td>\n",
       "    </tr>\n",
       "    <tr>\n",
       "      <th>3</th>\n",
       "      <td>3</td>\n",
       "      <td>330</td>\n",
       "      <td>27</td>\n",
       "      <td>8.18</td>\n",
       "    </tr>\n",
       "    <tr>\n",
       "      <th>4</th>\n",
       "      <td>4</td>\n",
       "      <td>41</td>\n",
       "      <td>4</td>\n",
       "      <td>9.76</td>\n",
       "    </tr>\n",
       "    <tr>\n",
       "      <th>5</th>\n",
       "      <td>5</td>\n",
       "      <td>9</td>\n",
       "      <td>0</td>\n",
       "      <td>0.00</td>\n",
       "    </tr>\n",
       "  </tbody>\n",
       "</table>\n",
       "</div>"
      ],
      "text/plain": [
       "   children  clients  debt  debt_perc\n",
       "0         0    14091  1063       7.54\n",
       "1         1     4808   444       9.23\n",
       "2         2     2052   194       9.45\n",
       "3         3      330    27       8.18\n",
       "4         4       41     4       9.76\n",
       "5         5        9     0       0.00"
      ]
     },
     "execution_count": 40,
     "metadata": {},
     "output_type": "execute_result"
    }
   ],
   "source": [
    "# Расчет процентного соотношения для каждой группы\n",
    "\n",
    "children_group['debt_perc'] = round((children_group['debt'] / children_group['clients']) * 100, 2)\n",
    "children_group"
   ]
  },
  {
   "cell_type": "code",
   "execution_count": 41,
   "id": "6fcb4a2c",
   "metadata": {},
   "outputs": [
    {
     "data": {
      "text/html": [
       "<div>\n",
       "<style scoped>\n",
       "    .dataframe tbody tr th:only-of-type {\n",
       "        vertical-align: middle;\n",
       "    }\n",
       "\n",
       "    .dataframe tbody tr th {\n",
       "        vertical-align: top;\n",
       "    }\n",
       "\n",
       "    .dataframe thead th {\n",
       "        text-align: right;\n",
       "    }\n",
       "</style>\n",
       "<table border=\"1\" class=\"dataframe\">\n",
       "  <thead>\n",
       "    <tr style=\"text-align: right;\">\n",
       "      <th></th>\n",
       "      <th>children</th>\n",
       "      <th>clients</th>\n",
       "      <th>debt</th>\n",
       "      <th>debt_perc</th>\n",
       "    </tr>\n",
       "  </thead>\n",
       "  <tbody>\n",
       "    <tr>\n",
       "      <th>0</th>\n",
       "      <td>0</td>\n",
       "      <td>14091</td>\n",
       "      <td>1063</td>\n",
       "      <td>7.54</td>\n",
       "    </tr>\n",
       "    <tr>\n",
       "      <th>1</th>\n",
       "      <td>1</td>\n",
       "      <td>4808</td>\n",
       "      <td>444</td>\n",
       "      <td>9.23</td>\n",
       "    </tr>\n",
       "    <tr>\n",
       "      <th>2</th>\n",
       "      <td>2</td>\n",
       "      <td>2052</td>\n",
       "      <td>194</td>\n",
       "      <td>9.45</td>\n",
       "    </tr>\n",
       "  </tbody>\n",
       "</table>\n",
       "</div>"
      ],
      "text/plain": [
       "   children  clients  debt  debt_perc\n",
       "0         0    14091  1063       7.54\n",
       "1         1     4808   444       9.23\n",
       "2         2     2052   194       9.45"
      ]
     },
     "execution_count": 41,
     "metadata": {},
     "output_type": "execute_result"
    }
   ],
   "source": [
    "# Так как категории 3, 4, 5 немногочисленны, отфильтруем их\n",
    "\n",
    "children_group = children_group.loc[children_group['children'].isin([0, 1, 2])]\n",
    "children_group"
   ]
  },
  {
   "cell_type": "code",
   "execution_count": 42,
   "id": "2f4b28ef",
   "metadata": {},
   "outputs": [
    {
     "name": "stdout",
     "output_type": "stream",
     "text": [
      "Средний процент должников среди всех клиентов: 8.74%\n"
     ]
    }
   ],
   "source": [
    "# Расчет среднего процента должников среди всех клиентов\n",
    "\n",
    "debt_perc_avg = round(children_group['debt_perc'].mean(), 2)\n",
    "print(f'Средний процент должников среди всех клиентов: {debt_perc_avg}%')"
   ]
  },
  {
   "cell_type": "code",
   "execution_count": 43,
   "id": "1b0ccc98",
   "metadata": {},
   "outputs": [
    {
     "data": {
      "image/png": "[encoded data removed]",
      "text/plain": [
       "<Figure size 900x600 with 1 Axes>"
      ]
     },
     "metadata": {},
     "output_type": "display_data"
    }
   ],
   "source": [
    "plt.figure(figsize=(9, 6))\n",
    "plt.bar(children_group['children'], children_group['debt_perc'], width=0.5)\n",
    "plt.axhline(debt_perc_avg, color='r', linestyle='-')\n",
    "plt.xlabel('Количество детей')\n",
    "plt.ylabel('Процент должников')\n",
    "plt.title('Зависимость между количеством детей и возвратом кредита в срок')\n",
    "plt.show()"
   ]
  },
  {
   "cell_type": "markdown",
   "id": "70b76ac3",
   "metadata": {},
   "source": [
    "**Вывод:**\n",
    "- Группы с 1 и 2 детьми имеют наибольший процент должников.\n",
    "- Группа \"бездетных\" имеет наименьший процент и показывает себя как наименее рискованная."
   ]
  },
  {
   "cell_type": "markdown",
   "id": "fec2a909",
   "metadata": {},
   "source": [
    " "
   ]
  },
  {
   "cell_type": "markdown",
   "id": "4e786be9",
   "metadata": {},
   "source": [
    "#### Есть ли зависимость между семейным положением и возвратом кредита в срок?"
   ]
  },
  {
   "cell_type": "markdown",
   "id": "6b21ad2a",
   "metadata": {},
   "source": [
    "Для того чтобы посчитать зависимость между семейным положением и возвратом кредита в срок, посчитаем количество клиентов с группировкой по семейному положению и из них выделим  клиентов с задолженностью по кредиту."
   ]
  },
  {
   "cell_type": "code",
   "execution_count": 45,
   "id": "7a3126b5",
   "metadata": {},
   "outputs": [],
   "source": [
    "# Группировка по семейному положению и подсчет общего количества клиентов и должников\n",
    "\n",
    "family_status_group = data.groupby('family_status')['debt'].agg(['count', 'sum']).reset_index()"
   ]
  },
  {
   "cell_type": "code",
   "execution_count": 46,
   "id": "1f9112b2",
   "metadata": {},
   "outputs": [
    {
     "data": {
      "text/html": [
       "<div>\n",
       "<style scoped>\n",
       "    .dataframe tbody tr th:only-of-type {\n",
       "        vertical-align: middle;\n",
       "    }\n",
       "\n",
       "    .dataframe tbody tr th {\n",
       "        vertical-align: top;\n",
       "    }\n",
       "\n",
       "    .dataframe thead th {\n",
       "        text-align: right;\n",
       "    }\n",
       "</style>\n",
       "<table border=\"1\" class=\"dataframe\">\n",
       "  <thead>\n",
       "    <tr style=\"text-align: right;\">\n",
       "      <th></th>\n",
       "      <th>status</th>\n",
       "      <th>clients</th>\n",
       "      <th>debt</th>\n",
       "    </tr>\n",
       "  </thead>\n",
       "  <tbody>\n",
       "    <tr>\n",
       "      <th>0</th>\n",
       "      <td>Не женат / не замужем</td>\n",
       "      <td>2796</td>\n",
       "      <td>273</td>\n",
       "    </tr>\n",
       "    <tr>\n",
       "      <th>1</th>\n",
       "      <td>в разводе</td>\n",
       "      <td>1189</td>\n",
       "      <td>84</td>\n",
       "    </tr>\n",
       "    <tr>\n",
       "      <th>2</th>\n",
       "      <td>вдовец / вдова</td>\n",
       "      <td>951</td>\n",
       "      <td>63</td>\n",
       "    </tr>\n",
       "    <tr>\n",
       "      <th>3</th>\n",
       "      <td>гражданский брак</td>\n",
       "      <td>4134</td>\n",
       "      <td>385</td>\n",
       "    </tr>\n",
       "    <tr>\n",
       "      <th>4</th>\n",
       "      <td>женат / замужем</td>\n",
       "      <td>12261</td>\n",
       "      <td>927</td>\n",
       "    </tr>\n",
       "  </tbody>\n",
       "</table>\n",
       "</div>"
      ],
      "text/plain": [
       "                  status  clients  debt\n",
       "0  Не женат / не замужем     2796   273\n",
       "1              в разводе     1189    84\n",
       "2         вдовец / вдова      951    63\n",
       "3       гражданский брак     4134   385\n",
       "4        женат / замужем    12261   927"
      ]
     },
     "execution_count": 46,
     "metadata": {},
     "output_type": "execute_result"
    }
   ],
   "source": [
    "# Переименование колонок для удобства\n",
    "\n",
    "family_status_group.columns = ['status', 'clients', 'debt']\n",
    "family_status_group"
   ]
  },
  {
   "cell_type": "code",
   "execution_count": 47,
   "id": "fb78d066",
   "metadata": {},
   "outputs": [
    {
     "data": {
      "text/html": [
       "<div>\n",
       "<style scoped>\n",
       "    .dataframe tbody tr th:only-of-type {\n",
       "        vertical-align: middle;\n",
       "    }\n",
       "\n",
       "    .dataframe tbody tr th {\n",
       "        vertical-align: top;\n",
       "    }\n",
       "\n",
       "    .dataframe thead th {\n",
       "        text-align: right;\n",
       "    }\n",
       "</style>\n",
       "<table border=\"1\" class=\"dataframe\">\n",
       "  <thead>\n",
       "    <tr style=\"text-align: right;\">\n",
       "      <th></th>\n",
       "      <th>status</th>\n",
       "      <th>clients</th>\n",
       "      <th>debt</th>\n",
       "      <th>debt_perc</th>\n",
       "    </tr>\n",
       "  </thead>\n",
       "  <tbody>\n",
       "    <tr>\n",
       "      <th>0</th>\n",
       "      <td>Не женат / не замужем</td>\n",
       "      <td>2796</td>\n",
       "      <td>273</td>\n",
       "      <td>9.76</td>\n",
       "    </tr>\n",
       "    <tr>\n",
       "      <th>3</th>\n",
       "      <td>гражданский брак</td>\n",
       "      <td>4134</td>\n",
       "      <td>385</td>\n",
       "      <td>9.31</td>\n",
       "    </tr>\n",
       "    <tr>\n",
       "      <th>4</th>\n",
       "      <td>женат / замужем</td>\n",
       "      <td>12261</td>\n",
       "      <td>927</td>\n",
       "      <td>7.56</td>\n",
       "    </tr>\n",
       "    <tr>\n",
       "      <th>1</th>\n",
       "      <td>в разводе</td>\n",
       "      <td>1189</td>\n",
       "      <td>84</td>\n",
       "      <td>7.06</td>\n",
       "    </tr>\n",
       "    <tr>\n",
       "      <th>2</th>\n",
       "      <td>вдовец / вдова</td>\n",
       "      <td>951</td>\n",
       "      <td>63</td>\n",
       "      <td>6.62</td>\n",
       "    </tr>\n",
       "  </tbody>\n",
       "</table>\n",
       "</div>"
      ],
      "text/plain": [
       "                  status  clients  debt  debt_perc\n",
       "0  Не женат / не замужем     2796   273       9.76\n",
       "3       гражданский брак     4134   385       9.31\n",
       "4        женат / замужем    12261   927       7.56\n",
       "1              в разводе     1189    84       7.06\n",
       "2         вдовец / вдова      951    63       6.62"
      ]
     },
     "execution_count": 47,
     "metadata": {},
     "output_type": "execute_result"
    }
   ],
   "source": [
    "# Расчет процентного соотношения для каждой группы и сортировка по процентому соотношению по убыванию.\n",
    "\n",
    "family_status_group['debt_perc'] = round((family_status_group['debt'] / family_status_group['clients']) * 100, 2)\n",
    "family_status_group.sort_values('debt_perc', ascending=False)"
   ]
  },
  {
   "cell_type": "code",
   "execution_count": 48,
   "id": "1425d28f",
   "metadata": {},
   "outputs": [
    {
     "name": "stdout",
     "output_type": "stream",
     "text": [
      "Средний процент должников среди всех клиентов: 8.06%\n"
     ]
    }
   ],
   "source": [
    "# Расчет среднего процента должников среди всех клиентов\n",
    "\n",
    "debt_perc_avg_family = round(family_status_group['debt_perc'].mean(), 2)\n",
    "print(f'Средний процент должников среди всех клиентов: {debt_perc_avg_family}%')"
   ]
  },
  {
   "cell_type": "code",
   "execution_count": 49,
   "id": "01bf4520",
   "metadata": {},
   "outputs": [
    {
     "data": {
      "image/png": "[encoded data removed]",
      "text/plain": [
       "<Figure size 900x600 with 1 Axes>"
      ]
     },
     "metadata": {},
     "output_type": "display_data"
    }
   ],
   "source": [
    "plt.figure(figsize=(9, 6))\n",
    "plt.bar(family_status_group['status'], family_status_group['debt_perc'], width=0.5)\n",
    "plt.axhline(debt_perc_avg_family, color='r', linestyle='-')\n",
    "plt.xlabel('Семейное положение')\n",
    "plt.ylabel('Процент должников')\n",
    "plt.title('Зависимость между семейным положением и возвратом кредита в срок')\n",
    "plt.show()"
   ]
  },
  {
   "cell_type": "markdown",
   "id": "d36371a9",
   "metadata": {},
   "source": [
    "**Вывод:** cогласно анализу, можно сделать следующие наблюдения:\n",
    "- группы \"Не женат / не замужем\" (9.75%) и \"гражданский брак\" (9.25%) имеют самый высокий риск невозврата по кредиту.\n",
    "- группы \"женат / замужем\" (7.54%) и \"в разводе\" имеют умеренный риск (7.06%)\n",
    "- группа \"вдовец / вдова\"имеет самый низкий процент (6.62%), что делает её самой надежной с точки зрения возврата кредита."
   ]
  },
  {
   "cell_type": "markdown",
   "id": "61606039",
   "metadata": {},
   "source": [
    " "
   ]
  },
  {
   "cell_type": "markdown",
   "id": "bcb8bd0e",
   "metadata": {},
   "source": [
    "#### Есть ли зависимость между уровнем дохода и возвратом кредита в срок?"
   ]
  },
  {
   "cell_type": "markdown",
   "id": "5596d4b4",
   "metadata": {},
   "source": [
    "Для того, чтобы определить зависимость между уровнем дохода и возвратом кредита в срок, выполним группировку на основании ранее выполненной категоризации по уровням дохода.\n",
    "- 0–30000 — `'E'`;\n",
    "- 30001–50000 — `'D'`;\n",
    "- 50001–200000 — `'C'`;\n",
    "- 200001–1000000 — `'B'`;\n",
    "- 1000001 и выше — `'A'`.\n",
    "\n",
    "После произведём расчёт количества должников по категориям и определм процентное соотношение."
   ]
  },
  {
   "cell_type": "code",
   "execution_count": 50,
   "id": "1e044170",
   "metadata": {},
   "outputs": [],
   "source": [
    "# Группировка данных и расчет общего количества клиентов и должников\n",
    "\n",
    "income_gategory_group = data.groupby('total_income_category')['debt'].agg(['count', 'sum']).reset_index()"
   ]
  },
  {
   "cell_type": "code",
   "execution_count": 51,
   "id": "b1749d38",
   "metadata": {},
   "outputs": [
    {
     "data": {
      "text/html": [
       "<div>\n",
       "<style scoped>\n",
       "    .dataframe tbody tr th:only-of-type {\n",
       "        vertical-align: middle;\n",
       "    }\n",
       "\n",
       "    .dataframe tbody tr th {\n",
       "        vertical-align: top;\n",
       "    }\n",
       "\n",
       "    .dataframe thead th {\n",
       "        text-align: right;\n",
       "    }\n",
       "</style>\n",
       "<table border=\"1\" class=\"dataframe\">\n",
       "  <thead>\n",
       "    <tr style=\"text-align: right;\">\n",
       "      <th></th>\n",
       "      <th>category</th>\n",
       "      <th>clients</th>\n",
       "      <th>debt</th>\n",
       "    </tr>\n",
       "  </thead>\n",
       "  <tbody>\n",
       "    <tr>\n",
       "      <th>0</th>\n",
       "      <td>A</td>\n",
       "      <td>25</td>\n",
       "      <td>2</td>\n",
       "    </tr>\n",
       "    <tr>\n",
       "      <th>1</th>\n",
       "      <td>B</td>\n",
       "      <td>5014</td>\n",
       "      <td>354</td>\n",
       "    </tr>\n",
       "    <tr>\n",
       "      <th>2</th>\n",
       "      <td>C</td>\n",
       "      <td>15921</td>\n",
       "      <td>1353</td>\n",
       "    </tr>\n",
       "    <tr>\n",
       "      <th>3</th>\n",
       "      <td>D</td>\n",
       "      <td>349</td>\n",
       "      <td>21</td>\n",
       "    </tr>\n",
       "    <tr>\n",
       "      <th>4</th>\n",
       "      <td>E</td>\n",
       "      <td>22</td>\n",
       "      <td>2</td>\n",
       "    </tr>\n",
       "  </tbody>\n",
       "</table>\n",
       "</div>"
      ],
      "text/plain": [
       "  category  clients  debt\n",
       "0        A       25     2\n",
       "1        B     5014   354\n",
       "2        C    15921  1353\n",
       "3        D      349    21\n",
       "4        E       22     2"
      ]
     },
     "execution_count": 51,
     "metadata": {},
     "output_type": "execute_result"
    }
   ],
   "source": [
    "# Переименование колонок для удобства\n",
    "\n",
    "income_gategory_group.columns = ['category', 'clients', 'debt']\n",
    "income_gategory_group"
   ]
  },
  {
   "cell_type": "code",
   "execution_count": 52,
   "id": "7ecaa081",
   "metadata": {},
   "outputs": [
    {
     "data": {
      "text/html": [
       "<div>\n",
       "<style scoped>\n",
       "    .dataframe tbody tr th:only-of-type {\n",
       "        vertical-align: middle;\n",
       "    }\n",
       "\n",
       "    .dataframe tbody tr th {\n",
       "        vertical-align: top;\n",
       "    }\n",
       "\n",
       "    .dataframe thead th {\n",
       "        text-align: right;\n",
       "    }\n",
       "</style>\n",
       "<table border=\"1\" class=\"dataframe\">\n",
       "  <thead>\n",
       "    <tr style=\"text-align: right;\">\n",
       "      <th></th>\n",
       "      <th>category</th>\n",
       "      <th>clients</th>\n",
       "      <th>debt</th>\n",
       "    </tr>\n",
       "  </thead>\n",
       "  <tbody>\n",
       "    <tr>\n",
       "      <th>1</th>\n",
       "      <td>B</td>\n",
       "      <td>5014</td>\n",
       "      <td>354</td>\n",
       "    </tr>\n",
       "    <tr>\n",
       "      <th>2</th>\n",
       "      <td>C</td>\n",
       "      <td>15921</td>\n",
       "      <td>1353</td>\n",
       "    </tr>\n",
       "    <tr>\n",
       "      <th>3</th>\n",
       "      <td>D</td>\n",
       "      <td>349</td>\n",
       "      <td>21</td>\n",
       "    </tr>\n",
       "  </tbody>\n",
       "</table>\n",
       "</div>"
      ],
      "text/plain": [
       "  category  clients  debt\n",
       "1        B     5014   354\n",
       "2        C    15921  1353\n",
       "3        D      349    21"
      ]
     },
     "execution_count": 52,
     "metadata": {},
     "output_type": "execute_result"
    }
   ],
   "source": [
    "# Отфильтруем категории A и E из-за небольшой выборки\n",
    "\n",
    "income_gategory_group = income_gategory_group.loc[income_gategory_group['category'].isin(['B', 'C', 'D'])]\n",
    "income_gategory_group"
   ]
  },
  {
   "cell_type": "code",
   "execution_count": 53,
   "id": "b66dfd6d",
   "metadata": {},
   "outputs": [
    {
     "name": "stderr",
     "output_type": "stream",
     "text": [
      "/var/folders/k7/lt_cvghj0895zpx23921r0bc0000gp/T/ipykernel_1273/1048303901.py:3: SettingWithCopyWarning: \n",
      "A value is trying to be set on a copy of a slice from a DataFrame.\n",
      "Try using .loc[row_indexer,col_indexer] = value instead\n",
      "\n",
      "See the caveats in the documentation: https://pandas.pydata.org/pandas-docs/stable/user_guide/indexing.html#returning-a-view-versus-a-copy\n",
      "  income_gategory_group['debt_perc'] = round((income_gategory_group['debt'] / income_gategory_group['clients']) * 100, 2)\n"
     ]
    },
    {
     "data": {
      "text/html": [
       "<div>\n",
       "<style scoped>\n",
       "    .dataframe tbody tr th:only-of-type {\n",
       "        vertical-align: middle;\n",
       "    }\n",
       "\n",
       "    .dataframe tbody tr th {\n",
       "        vertical-align: top;\n",
       "    }\n",
       "\n",
       "    .dataframe thead th {\n",
       "        text-align: right;\n",
       "    }\n",
       "</style>\n",
       "<table border=\"1\" class=\"dataframe\">\n",
       "  <thead>\n",
       "    <tr style=\"text-align: right;\">\n",
       "      <th></th>\n",
       "      <th>category</th>\n",
       "      <th>clients</th>\n",
       "      <th>debt</th>\n",
       "      <th>debt_perc</th>\n",
       "    </tr>\n",
       "  </thead>\n",
       "  <tbody>\n",
       "    <tr>\n",
       "      <th>1</th>\n",
       "      <td>B</td>\n",
       "      <td>5014</td>\n",
       "      <td>354</td>\n",
       "      <td>7.06</td>\n",
       "    </tr>\n",
       "    <tr>\n",
       "      <th>2</th>\n",
       "      <td>C</td>\n",
       "      <td>15921</td>\n",
       "      <td>1353</td>\n",
       "      <td>8.50</td>\n",
       "    </tr>\n",
       "    <tr>\n",
       "      <th>3</th>\n",
       "      <td>D</td>\n",
       "      <td>349</td>\n",
       "      <td>21</td>\n",
       "      <td>6.02</td>\n",
       "    </tr>\n",
       "  </tbody>\n",
       "</table>\n",
       "</div>"
      ],
      "text/plain": [
       "  category  clients  debt  debt_perc\n",
       "1        B     5014   354       7.06\n",
       "2        C    15921  1353       8.50\n",
       "3        D      349    21       6.02"
      ]
     },
     "execution_count": 53,
     "metadata": {},
     "output_type": "execute_result"
    }
   ],
   "source": [
    "# Расчет процентного соотношения для каждой группы\n",
    "\n",
    "income_gategory_group['debt_perc'] = round((income_gategory_group['debt'] / income_gategory_group['clients']) * 100, 2)\n",
    "income_gategory_group"
   ]
  },
  {
   "cell_type": "code",
   "execution_count": 54,
   "id": "3bed94dc",
   "metadata": {},
   "outputs": [
    {
     "name": "stdout",
     "output_type": "stream",
     "text": [
      "Средний процент должников среди всех клиентов: 7.19%\n"
     ]
    }
   ],
   "source": [
    "# Расчет среднего процента должников среди всех клиентов\n",
    "\n",
    "debt_perc_avg_income = round(income_gategory_group['debt_perc'].mean(), 2)\n",
    "print(f'Средний процент должников среди всех клиентов: {debt_perc_avg_income}%')"
   ]
  },
  {
   "cell_type": "code",
   "execution_count": 55,
   "id": "43f2c273",
   "metadata": {},
   "outputs": [
    {
     "data": {
      "image/png": "[encoded data removed]",
      "text/plain": [
       "<Figure size 900x600 with 1 Axes>"
      ]
     },
     "metadata": {},
     "output_type": "display_data"
    }
   ],
   "source": [
    "plt.figure(figsize=(9, 6))\n",
    "plt.bar(income_gategory_group['category'], income_gategory_group['debt_perc'], width=0.5)\n",
    "plt.axhline(debt_perc_avg_income, color='r', linestyle='-')\n",
    "plt.xlabel('Категория дохода')\n",
    "plt.ylabel('Процент должников')\n",
    "plt.title('Зависимость между уровнем дохода и возвратом кредита в срок')\n",
    "plt.show()"
   ]
  },
  {
   "cell_type": "markdown",
   "id": "73e11d3d",
   "metadata": {},
   "source": [
    "**Вывод:** согласно проведенному анализу можно выделить следующие наблюдения.\n",
    "\n",
    "- Категория D (6.02%) имеет самый низкий процент должников, что ниже среднего значения (7.18%).\n",
    "- Категория B имеет процент должников, близкий к среднему значению, что показывает, что доход в этом диапазоне не является сильным предсказателем невозврата.\n",
    "- Категория C (8.46%) имеет самый высокий процент должников, что выше среднего значения."
   ]
  },
  {
   "cell_type": "markdown",
   "id": "2cd6870a",
   "metadata": {},
   "source": [
    " "
   ]
  },
  {
   "cell_type": "markdown",
   "id": "6b4f28b5",
   "metadata": {},
   "source": [
    "#### Как разные цели кредита влияют на его возврат в срок?"
   ]
  },
  {
   "cell_type": "markdown",
   "id": "c8e1c1b5",
   "metadata": {},
   "source": [
    "Способ анализа целей кредита аналогичен решениям выше. Посчитаем количество клиентов с группировкой по выполненной ранее категоризации целей выдачи кредита и из них выделим клиентов с задолженностью по кредиту."
   ]
  },
  {
   "cell_type": "code",
   "execution_count": 56,
   "id": "74f09c3f",
   "metadata": {},
   "outputs": [],
   "source": [
    "# Группировка по семейному положению и подсчет общего количества клиентов и должников\n",
    "\n",
    "purpose_category_group = data.groupby('purpose_category')['debt'].agg(['count', 'sum']).reset_index()"
   ]
  },
  {
   "cell_type": "code",
   "execution_count": 57,
   "id": "ba621c7e",
   "metadata": {},
   "outputs": [],
   "source": [
    "# Переименование колонок для удобства\n",
    "\n",
    "purpose_category_group.columns = ['purpose_category', 'clients', 'debt']"
   ]
  },
  {
   "cell_type": "code",
   "execution_count": 58,
   "id": "e7924e05",
   "metadata": {},
   "outputs": [
    {
     "data": {
      "text/html": [
       "<div>\n",
       "<style scoped>\n",
       "    .dataframe tbody tr th:only-of-type {\n",
       "        vertical-align: middle;\n",
       "    }\n",
       "\n",
       "    .dataframe tbody tr th {\n",
       "        vertical-align: top;\n",
       "    }\n",
       "\n",
       "    .dataframe thead th {\n",
       "        text-align: right;\n",
       "    }\n",
       "</style>\n",
       "<table border=\"1\" class=\"dataframe\">\n",
       "  <thead>\n",
       "    <tr style=\"text-align: right;\">\n",
       "      <th></th>\n",
       "      <th>purpose_category</th>\n",
       "      <th>clients</th>\n",
       "      <th>debt</th>\n",
       "      <th>debt_perc</th>\n",
       "    </tr>\n",
       "  </thead>\n",
       "  <tbody>\n",
       "    <tr>\n",
       "      <th>0</th>\n",
       "      <td>операции с автомобилем</td>\n",
       "      <td>4279</td>\n",
       "      <td>400</td>\n",
       "      <td>9.35</td>\n",
       "    </tr>\n",
       "    <tr>\n",
       "      <th>1</th>\n",
       "      <td>операции с недвижимостью</td>\n",
       "      <td>10751</td>\n",
       "      <td>780</td>\n",
       "      <td>7.26</td>\n",
       "    </tr>\n",
       "    <tr>\n",
       "      <th>2</th>\n",
       "      <td>получение образования</td>\n",
       "      <td>3988</td>\n",
       "      <td>369</td>\n",
       "      <td>9.25</td>\n",
       "    </tr>\n",
       "    <tr>\n",
       "      <th>3</th>\n",
       "      <td>проведение свадьбы</td>\n",
       "      <td>2313</td>\n",
       "      <td>183</td>\n",
       "      <td>7.91</td>\n",
       "    </tr>\n",
       "  </tbody>\n",
       "</table>\n",
       "</div>"
      ],
      "text/plain": [
       "           purpose_category  clients  debt  debt_perc\n",
       "0    операции с автомобилем     4279   400       9.35\n",
       "1  операции с недвижимостью    10751   780       7.26\n",
       "2     получение образования     3988   369       9.25\n",
       "3        проведение свадьбы     2313   183       7.91"
      ]
     },
     "execution_count": 58,
     "metadata": {},
     "output_type": "execute_result"
    }
   ],
   "source": [
    "# Расчет процентного соотношения для каждой группы\n",
    "\n",
    "purpose_category_group['debt_perc'] = round((purpose_category_group['debt'] / purpose_category_group['clients']) * 100, 2)\n",
    "purpose_category_group"
   ]
  },
  {
   "cell_type": "code",
   "execution_count": 59,
   "id": "dd6391cf",
   "metadata": {},
   "outputs": [
    {
     "name": "stdout",
     "output_type": "stream",
     "text": [
      "Средний процент должников среди всех клиентов: 8.44%\n"
     ]
    }
   ],
   "source": [
    "# Расчет среднего процента должников\n",
    "\n",
    "debt_perc_avg_purpose = round(purpose_category_group['debt_perc'].mean(), 2)\n",
    "print(f'Средний процент должников среди всех клиентов: {debt_perc_avg_purpose}%')"
   ]
  },
  {
   "cell_type": "code",
   "execution_count": 60,
   "id": "ad0a320a",
   "metadata": {},
   "outputs": [
    {
     "data": {
      "image/png": "[encoded data removed]",
      "text/plain": [
       "<Figure size 900x600 with 1 Axes>"
      ]
     },
     "metadata": {},
     "output_type": "display_data"
    }
   ],
   "source": [
    "plt.figure(figsize=(9, 6))\n",
    "plt.bar(purpose_category_group['purpose_category'], purpose_category_group['debt_perc'], width=0.5)\n",
    "plt.axhline(debt_perc_avg_purpose, color='r', linestyle='-')\n",
    "plt.xlabel('Категория дохода')\n",
    "plt.ylabel('Процент должников')\n",
    "plt.title('Зависимость между целями кредита и его возвратом в срок')\n",
    "plt.xticks(rotation=15)\n",
    "plt.show()"
   ]
  },
  {
   "cell_type": "markdown",
   "id": "d1fdd54e",
   "metadata": {},
   "source": [
    "**Вывод:** Операции с автомобилем (9.33%) и получение образования (9.23%) имеют больший процент должников, что выше среднего значения (8.41%). Это может указывать на более высокий риск невозврата кредитов для этих целей.\n",
    "\n",
    "Операции с недвижимостью (7.24%) и проведение свадьбы (7.83%) имеют меньший процент должников, что ниже среднего значения. Эти цели кредита представляются более надежными в плане возврата.\n",
    "\n",
    "Таким образом, можно заключить, что кредиты, выданные на операции с автомобилем и получение образования, имеют больший риск невозврата по сравнению с кредитами на операции с недвижимостью и проведение свадьбы."
   ]
  },
  {
   "cell_type": "markdown",
   "id": "749943b5",
   "metadata": {},
   "source": [
    " "
   ]
  },
  {
   "cell_type": "markdown",
   "id": "ee820379",
   "metadata": {},
   "source": [
    "  "
   ]
  },
  {
   "cell_type": "markdown",
   "id": "d31391a5",
   "metadata": {},
   "source": [
    "### Общий вывод."
   ]
  },
  {
   "cell_type": "markdown",
   "id": "aa1960eb",
   "metadata": {},
   "source": [
    "В исследовании были использованы данные о клиентах, включающие такие параметры, как количество детей, трудовой стаж, возраст, уровень образования, семейное положение, пол, тип занятости, наличие задолженности по кредитам, ежемесячный доход и цель получения кредита. Была выполнена категоризация данных и проведён анализ. Клиенты были сгруппированы согласно проверяемой гипотезы, посчитано их количество и выявлено процентное соотношение должников, которое было сопоставлено со средним значением должников из всей выборки. Это позволило выделить важные зависимости и сделать вывод о надёжности или ненадёжности клиентов.\n",
    "\n",
    "Данное исследование показало, что различные взаимосвязи влияют на возврат кредита клиентами.\n",
    "\n",
    "**Основные выводы:**\n",
    "\n",
    "1. **Количество детей и возврат кредита:** Группы с 1 и 2 детьми имеют наибольший процент должников, что указывает на повышенный риск. Группа \"бездетных\" имеет наименьший процент должников, что делает её менее рискованной.\n",
    "\n",
    "\n",
    "2. **Семейное положение и возврат кредита:** Неженатые/незамужние или находящиеся в гражданском браке имеют самый высокий риск невозврата кредита. Люди находящиеся в браке или в разводе, а также вдовцы/вдовы, являются более надежными группами.\n",
    "\n",
    "\n",
    "3. **Уровень дохода и возврат кредита:** Категория D (доход от 30 001 до 50 000) имеет самый низкий процент должников (6.02%), что значительно ниже среднего значения (7.18%). Категория B (доход от 200 001 до 1 000 000) имеет процент должников, близкий к среднему значению, что показывает, что доход в этом диапазоне не является сильным предсказателем невозврата. Категория C (доход от 50 001 до 200 000) имеет самый высокий процент должников (8.46%), что выше среднего значения.\n",
    "\n",
    "\n",
    "4. **Цели кредита и возврат кредита:** Кредиты на операции с автомобилем (9.33%) и получение образования (9.23%) имеют больший риск невозврата, так как процент должников выше среднего. Кредиты на операции с недвижимостью (7.24%) и проведение свадьбы (7.83%) имеют меньший риск невозврата, так как процент должников ниже среднего.\n",
    "\n",
    "**Портреты клиентов:**\n",
    "\n",
    "**Идеальный клиент:**\n",
    "Без детей или с минимальным количеством детей.\n",
    "Женат/замужем или вдовец/вдова.\n",
    "Имеет доход в категории D (от 30 001 до 50 000).\n",
    "Берет кредит на операции с недвижимостью или проведение свадьбы.\n",
    "\n",
    "**Неидеальный клиент:**\n",
    "Имеет 1 или 2 детей.\n",
    "Неженат/незамужем или находится в гражданском браке.\n",
    "Имеет доход в категории C (от 50 001 до 200 000).\n",
    "Берет кредит на операции с автомобилем или получение образования.\n",
    "\n",
    "\n",
    "**Дополнительное предложение:**\n",
    "\n",
    "Для более полного понимания факторов, влияющих на возврат кредита в срок, предлагаю также учитывать такой фактор, как сумма кредита. Это позволит разделить кредиты на категории по суммам и провести анализ, чтобы проверить гипотезу: *Есть ли зависимость между суммой выданного кредита и возвратом кредита в срок?*"
   ]
  }
 ],
 "metadata": {
  "kernelspec": {
   "display_name": "Python 3 (ipykernel)",
   "language": "python",
   "name": "python3"
  },
  "language_info": {
   "codemirror_mode": {
    "name": "ipython",
    "version": 3
   },
   "file_extension": ".py",
   "mimetype": "text/x-python",
   "name": "python",
   "nbconvert_exporter": "python",
   "pygments_lexer": "ipython3",
   "version": "3.9.13"
  }
 },
 "nbformat": 4,
 "nbformat_minor": 5
}
